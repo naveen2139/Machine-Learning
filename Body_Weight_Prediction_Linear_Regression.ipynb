{
  "nbformat": 4,
  "nbformat_minor": 0,
  "metadata": {
    "colab": {
      "name": "Body Weight Prediction-Linear Regression.ipynb",
      "provenance": [],
      "collapsed_sections": [],
      "authorship_tag": "ABX9TyMEHCJnni5TALEyra08FpEZ"
    },
    "kernelspec": {
      "display_name": "Python 3",
      "name": "python3"
    },
    "language_info": {
      "name": "python"
    }
  },
  "cells": [
    {
      "cell_type": "code",
      "metadata": {
        "id": "OTjwG_knTIY_"
      },
      "source": [
        "import pandas as pd\n",
        "import numpy as np\n",
        "import matplotlib.pyplot as plt\n",
        "import seaborn as sns"
      ],
      "execution_count": 3,
      "outputs": []
    },
    {
      "cell_type": "code",
      "metadata": {
        "colab": {
          "base_uri": "https://localhost:8080/",
          "height": 206
        },
        "id": "DuzITv6FTZXF",
        "outputId": "97e42832-0e7f-4234-c50e-66f76fcb050e"
      },
      "source": [
        "data=pd.read_excel('/content/Bodyweight.xlsx')\n",
        "data.head()"
      ],
      "execution_count": 4,
      "outputs": [
        {
          "output_type": "execute_result",
          "data": {
            "text/html": [
              "<div>\n",
              "<style scoped>\n",
              "    .dataframe tbody tr th:only-of-type {\n",
              "        vertical-align: middle;\n",
              "    }\n",
              "\n",
              "    .dataframe tbody tr th {\n",
              "        vertical-align: top;\n",
              "    }\n",
              "\n",
              "    .dataframe thead th {\n",
              "        text-align: right;\n",
              "    }\n",
              "</style>\n",
              "<table border=\"1\" class=\"dataframe\">\n",
              "  <thead>\n",
              "    <tr style=\"text-align: right;\">\n",
              "      <th></th>\n",
              "      <th>Index</th>\n",
              "      <th>Brain Weight</th>\n",
              "      <th>Body Weight</th>\n",
              "    </tr>\n",
              "  </thead>\n",
              "  <tbody>\n",
              "    <tr>\n",
              "      <th>0</th>\n",
              "      <td>1</td>\n",
              "      <td>3.385</td>\n",
              "      <td>44.5</td>\n",
              "    </tr>\n",
              "    <tr>\n",
              "      <th>1</th>\n",
              "      <td>2</td>\n",
              "      <td>0.480</td>\n",
              "      <td>15.5</td>\n",
              "    </tr>\n",
              "    <tr>\n",
              "      <th>2</th>\n",
              "      <td>3</td>\n",
              "      <td>1.350</td>\n",
              "      <td>8.1</td>\n",
              "    </tr>\n",
              "    <tr>\n",
              "      <th>3</th>\n",
              "      <td>4</td>\n",
              "      <td>465.000</td>\n",
              "      <td>423.0</td>\n",
              "    </tr>\n",
              "    <tr>\n",
              "      <th>4</th>\n",
              "      <td>5</td>\n",
              "      <td>36.330</td>\n",
              "      <td>119.5</td>\n",
              "    </tr>\n",
              "  </tbody>\n",
              "</table>\n",
              "</div>"
            ],
            "text/plain": [
              "   Index  Brain Weight  Body Weight\n",
              "0      1         3.385         44.5\n",
              "1      2         0.480         15.5\n",
              "2      3         1.350          8.1\n",
              "3      4       465.000        423.0\n",
              "4      5        36.330        119.5"
            ]
          },
          "metadata": {},
          "execution_count": 4
        }
      ]
    },
    {
      "cell_type": "code",
      "metadata": {
        "colab": {
          "base_uri": "https://localhost:8080/",
          "height": 300
        },
        "id": "jiaODjslT4jJ",
        "outputId": "464ab9e1-bd12-44f1-ebdd-70fbd77dff0c"
      },
      "source": [
        "data.describe()"
      ],
      "execution_count": 5,
      "outputs": [
        {
          "output_type": "execute_result",
          "data": {
            "text/html": [
              "<div>\n",
              "<style scoped>\n",
              "    .dataframe tbody tr th:only-of-type {\n",
              "        vertical-align: middle;\n",
              "    }\n",
              "\n",
              "    .dataframe tbody tr th {\n",
              "        vertical-align: top;\n",
              "    }\n",
              "\n",
              "    .dataframe thead th {\n",
              "        text-align: right;\n",
              "    }\n",
              "</style>\n",
              "<table border=\"1\" class=\"dataframe\">\n",
              "  <thead>\n",
              "    <tr style=\"text-align: right;\">\n",
              "      <th></th>\n",
              "      <th>Index</th>\n",
              "      <th>Brain Weight</th>\n",
              "      <th>Body Weight</th>\n",
              "    </tr>\n",
              "  </thead>\n",
              "  <tbody>\n",
              "    <tr>\n",
              "      <th>count</th>\n",
              "      <td>62.000000</td>\n",
              "      <td>62.000000</td>\n",
              "      <td>62.000000</td>\n",
              "    </tr>\n",
              "    <tr>\n",
              "      <th>mean</th>\n",
              "      <td>31.500000</td>\n",
              "      <td>198.789984</td>\n",
              "      <td>283.134194</td>\n",
              "    </tr>\n",
              "    <tr>\n",
              "      <th>std</th>\n",
              "      <td>18.041619</td>\n",
              "      <td>899.158011</td>\n",
              "      <td>930.278942</td>\n",
              "    </tr>\n",
              "    <tr>\n",
              "      <th>min</th>\n",
              "      <td>1.000000</td>\n",
              "      <td>0.005000</td>\n",
              "      <td>0.140000</td>\n",
              "    </tr>\n",
              "    <tr>\n",
              "      <th>25%</th>\n",
              "      <td>16.250000</td>\n",
              "      <td>0.600000</td>\n",
              "      <td>4.250000</td>\n",
              "    </tr>\n",
              "    <tr>\n",
              "      <th>50%</th>\n",
              "      <td>31.500000</td>\n",
              "      <td>3.342500</td>\n",
              "      <td>17.250000</td>\n",
              "    </tr>\n",
              "    <tr>\n",
              "      <th>75%</th>\n",
              "      <td>46.750000</td>\n",
              "      <td>48.202500</td>\n",
              "      <td>166.000000</td>\n",
              "    </tr>\n",
              "    <tr>\n",
              "      <th>max</th>\n",
              "      <td>62.000000</td>\n",
              "      <td>6654.000000</td>\n",
              "      <td>5712.000000</td>\n",
              "    </tr>\n",
              "  </tbody>\n",
              "</table>\n",
              "</div>"
            ],
            "text/plain": [
              "           Index  Brain Weight  Body Weight\n",
              "count  62.000000     62.000000    62.000000\n",
              "mean   31.500000    198.789984   283.134194\n",
              "std    18.041619    899.158011   930.278942\n",
              "min     1.000000      0.005000     0.140000\n",
              "25%    16.250000      0.600000     4.250000\n",
              "50%    31.500000      3.342500    17.250000\n",
              "75%    46.750000     48.202500   166.000000\n",
              "max    62.000000   6654.000000  5712.000000"
            ]
          },
          "metadata": {},
          "execution_count": 5
        }
      ]
    },
    {
      "cell_type": "code",
      "metadata": {
        "colab": {
          "base_uri": "https://localhost:8080/",
          "height": 295
        },
        "id": "0jBHXe-_T-zg",
        "outputId": "6a735a96-0a7b-417f-a0f2-1ad135e2cce0"
      },
      "source": [
        "data.plot(x='Brain Weight',y='Body Weight',style='o')\n",
        "plt.title('Brain Weight vs Body Weight')\n",
        "plt.xlabel('Brain Weight')\n",
        "plt.ylabel('Body Weight')\n",
        "plt.xlim(0,800)\n",
        "plt.ylim(0,1000)\n",
        "plt.show()\n"
      ],
      "execution_count": 6,
      "outputs": [
        {
          "output_type": "display_data",
          "data": {
            "image/png": "[encoded data removed]",
            "text/plain": [
              "<Figure size 432x288 with 1 Axes>"
            ]
          },
          "metadata": {
            "needs_background": "light"
          }
        }
      ]
    },
    {
      "cell_type": "code",
      "metadata": {
        "id": "vi_p4GHJaZrX"
      },
      "source": [
        "X=data['Brain Weight'].values\n",
        "y=data['Body Weight'].values\n",
        "# Reshape X and y\n",
        "\n",
        "X = X.reshape(-1,1)\n",
        "y = y.reshape(-1,1)\n"
      ],
      "execution_count": 7,
      "outputs": []
    },
    {
      "cell_type": "code",
      "metadata": {
        "id": "zA_Lb5ZVRIZp"
      },
      "source": [
        "# Split X and y into training and test data sets\n",
        "\n",
        "from sklearn.model_selection import train_test_split\n",
        "X_train,X_test,y_train,y_test = train_test_split(X, y, test_size=0.33, random_state=42)\n",
        "\n"
      ],
      "execution_count": 8,
      "outputs": []
    },
    {
      "cell_type": "code",
      "metadata": {
        "colab": {
          "base_uri": "https://localhost:8080/"
        },
        "id": "z9vST3QHan-z",
        "outputId": "3565320e-462d-4692-9d8a-6f2f06b21cbb"
      },
      "source": [
        "# Fit the linear model\n",
        "\n",
        "from sklearn.linear_model import LinearRegression\n",
        "model = LinearRegression()\n",
        "model.fit(X_train, y_train)"
      ],
      "execution_count": 9,
      "outputs": [
        {
          "output_type": "execute_result",
          "data": {
            "text/plain": [
              "LinearRegression()"
            ]
          },
          "metadata": {},
          "execution_count": 9
        }
      ]
    },
    {
      "cell_type": "code",
      "metadata": {
        "id": "IhHKw8bSa2o5"
      },
      "source": [
        "prediction = model.predict(X_test)"
      ],
      "execution_count": 10,
      "outputs": []
    },
    {
      "cell_type": "code",
      "metadata": {
        "colab": {
          "base_uri": "https://localhost:8080/"
        },
        "id": "VORiCGN8b1e_",
        "outputId": "44ce9905-9490-4455-9092-2a5bb3c4e61c"
      },
      "source": [
        "prediction"
      ],
      "execution_count": 11,
      "outputs": [
        {
          "output_type": "execute_result",
          "data": {
            "text/plain": [
              "array([[129.78768061],\n",
              "       [128.55104636],\n",
              "       [128.92069246],\n",
              "       [279.28984925],\n",
              "       [152.22759973],\n",
              "       [183.27787288],\n",
              "       [127.59092659],\n",
              "       [126.63080683],\n",
              "       [125.86271102],\n",
              "       [127.22608108],\n",
              "       [126.39077689],\n",
              "       [126.07873796],\n",
              "       [126.19875293],\n",
              "       [125.67548766],\n",
              "       [129.03110624],\n",
              "       [132.19950146],\n",
              "       [572.12637717],\n",
              "       [127.30289066],\n",
              "       [125.71677281],\n",
              "       [129.69358887],\n",
              "       [139.90926316]])"
            ]
          },
          "metadata": {},
          "execution_count": 11
        }
      ]
    },
    {
      "cell_type": "code",
      "metadata": {
        "id": "02PZlJ3db3cs"
      },
      "source": [
        "# To make an individual prediction using the linear regression model.\n",
        "\n",
        "t_predict = model.predict(X_test)"
      ],
      "execution_count": 12,
      "outputs": []
    },
    {
      "cell_type": "code",
      "metadata": {
        "colab": {
          "base_uri": "https://localhost:8080/"
        },
        "id": "SK-fZ893cRJP",
        "outputId": "72ff7665-9f80-4b21-9283-d4ffe3255016"
      },
      "source": [
        "t_predict"
      ],
      "execution_count": 13,
      "outputs": [
        {
          "output_type": "execute_result",
          "data": {
            "text/plain": [
              "array([[129.78768061],\n",
              "       [128.55104636],\n",
              "       [128.92069246],\n",
              "       [279.28984925],\n",
              "       [152.22759973],\n",
              "       [183.27787288],\n",
              "       [127.59092659],\n",
              "       [126.63080683],\n",
              "       [125.86271102],\n",
              "       [127.22608108],\n",
              "       [126.39077689],\n",
              "       [126.07873796],\n",
              "       [126.19875293],\n",
              "       [125.67548766],\n",
              "       [129.03110624],\n",
              "       [132.19950146],\n",
              "       [572.12637717],\n",
              "       [127.30289066],\n",
              "       [125.71677281],\n",
              "       [129.69358887],\n",
              "       [139.90926316]])"
            ]
          },
          "metadata": {},
          "execution_count": 13
        }
      ]
    },
    {
      "cell_type": "code",
      "metadata": {
        "id": "4fNa9romcxjU"
      },
      "source": [
        "from sklearn.metrics import mean_absolute_error, mean_squared_error"
      ],
      "execution_count": 14,
      "outputs": []
    },
    {
      "cell_type": "code",
      "metadata": {
        "id": "y6L3ybSoc1Uz"
      },
      "source": [
        "MAE = mean_absolute_error(y_test,t_predict)\n",
        "MSE = mean_squared_error(y_test,t_predict)\n",
        "RMSE = np.sqrt(MSE)"
      ],
      "execution_count": 15,
      "outputs": []
    },
    {
      "cell_type": "code",
      "metadata": {
        "colab": {
          "base_uri": "https://localhost:8080/"
        },
        "id": "UEemmHVEc3IU",
        "outputId": "7b870eab-492e-4ec4-dcce-aacf49c58d1c"
      },
      "source": [
        "MAE"
      ],
      "execution_count": 16,
      "outputs": [
        {
          "output_type": "execute_result",
          "data": {
            "text/plain": [
              "103.0628342726529"
            ]
          },
          "metadata": {},
          "execution_count": 16
        }
      ]
    },
    {
      "cell_type": "code",
      "metadata": {
        "colab": {
          "base_uri": "https://localhost:8080/"
        },
        "id": "AUEBg6FVc9Th",
        "outputId": "bf63c818-0c3e-4e08-e641-4924606a2329"
      },
      "source": [
        "MSE"
      ],
      "execution_count": 17,
      "outputs": [
        {
          "output_type": "execute_result",
          "data": {
            "text/plain": [
              "11502.100240457301"
            ]
          },
          "metadata": {},
          "execution_count": 17
        }
      ]
    },
    {
      "cell_type": "code",
      "metadata": {
        "colab": {
          "base_uri": "https://localhost:8080/"
        },
        "id": "AFatzgvwc-N6",
        "outputId": "771fb10d-f645-4110-93dd-d1712403d65f"
      },
      "source": [
        "RMSE"
      ],
      "execution_count": 18,
      "outputs": [
        {
          "output_type": "execute_result",
          "data": {
            "text/plain": [
              "107.24784492220485"
            ]
          },
          "metadata": {},
          "execution_count": 18
        }
      ]
    },
    {
      "cell_type": "code",
      "metadata": {
        "id": "2Qbs_24Rc_AR",
        "colab": {
          "base_uri": "https://localhost:8080/"
        },
        "outputId": "02b2acb9-d7b6-4838-9e2a-a557097139db"
      },
      "source": [
        "r2_score=model.score(y_test,t_predict)\n",
        "r2_score"
      ],
      "execution_count": 22,
      "outputs": [
        {
          "output_type": "execute_result",
          "data": {
            "text/plain": [
              "0.756778105570689"
            ]
          },
          "metadata": {},
          "execution_count": 22
        }
      ]
    },
    {
      "cell_type": "code",
      "source": [
        "plt.scatter(X, y, color = 'blue', label='Scatter Plot')\n",
        "plt.plot(X_test, t_predict, color = 'red', linewidth=3, label = 'Regression Line')\n",
        "plt.title('Relationship between Brain Weight and Body Weight')\n",
        "plt.xlabel('Brain Weight')\n",
        "plt.ylabel('BOdy Weight')\n",
        "plt.xlim(0,1000)\n",
        "plt.legend(loc=4)\n",
        "plt.show()"
      ],
      "metadata": {
        "colab": {
          "base_uri": "https://localhost:8080/",
          "height": 295
        },
        "id": "mFlMSgRwxvJB",
        "outputId": "4cd2b64e-489a-4a35-df96-bf6735ff4f27"
      },
      "execution_count": 27,
      "outputs": [
        {
          "output_type": "display_data",
          "data": {
            "image/png": "[encoded data removed]",
            "text/plain": [
              "<Figure size 432x288 with 1 Axes>"
            ]
          },
          "metadata": {
            "needs_background": "light"
          }
        }
      ]
    },
    {
      "cell_type": "code",
      "source": [
        ""
      ],
      "metadata": {
        "id": "Q3vo4EuYy1sz"
      },
      "execution_count": null,
      "outputs": []
    }
  ]
}