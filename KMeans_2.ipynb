{
  "nbformat": 4,
  "nbformat_minor": 0,
  "metadata": {
    "colab": {
      "name": "KMeans-2.ipynb",
      "provenance": []
    },
    "kernelspec": {
      "name": "python3",
      "display_name": "Python 3"
    },
    "language_info": {
      "name": "python"
    }
  },
  "cells": [
    {
      "cell_type": "code",
      "metadata": {
        "id": "G7XSczd2i41B"
      },
      "source": [
        "import pandas as pd\n",
        "import matplotlib.pyplot as plt\n",
        "import numpy as np\n",
        "import seaborn as sns\n",
        "sns.set()\n",
        "from sklearn.cluster import KMeans"
      ],
      "execution_count": null,
      "outputs": []
    },
    {
      "cell_type": "code",
      "metadata": {
        "colab": {
          "resources": {
            "http://localhost:8080/nbextensions/google.colab/files.js": {
              "data": "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",
              "ok": true,
              "headers": [
                [
                  "content-type",
                  "application/javascript"
                ]
              ],
              "status": 200,
              "status_text": ""
            }
          },
          "base_uri": "https://localhost:8080/",
          "height": 111
        },
        "id": "gA3jbFt0i-QL",
        "outputId": "0867cba7-fd09-4c18-db4e-aa88504dc2be"
      },
      "source": [
        "from google.colab import files\n",
        "files.upload()"
      ],
      "execution_count": null,
      "outputs": [
        {
          "output_type": "display_data",
          "data": {
            "text/html": [
              "\n",
              "     <input type=\"file\" id=\"files-c612cea3-506a-4f76-9b02-bc50eb3ecbb5\" name=\"files[]\" multiple disabled\n",
              "        style=\"border:none\" />\n",
              "     <output id=\"result-c612cea3-506a-4f76-9b02-bc50eb3ecbb5\">\n",
              "      Upload widget is only available when the cell has been executed in the\n",
              "      current browser session. Please rerun this cell to enable.\n",
              "      </output>\n",
              "      <script src=\"/nbextensions/google.colab/files.js\"></script> "
            ],
            "text/plain": [
              "<IPython.core.display.HTML object>"
            ]
          },
          "metadata": {}
        },
        {
          "output_type": "stream",
          "name": "stdout",
          "text": [
            "Saving Countries_exercise.csv to Countries_exercise.csv\n"
          ]
        },
        {
          "output_type": "execute_result",
          "data": {
            "text/plain": [
              "{'Countries_exercise.csv': b\"name,Longitude,Latitude\\r\\nAruba,-69.98267711,12.52088038\\r\\nAfghanistan,66.00473366,33.83523073\\r\\nAngola,17.53736768,-12.29336054\\r\\nAnguilla,-63.06498927,18.2239595\\r\\nAlbania,20.04983396,41.14244989\\r\\nAland,19.95328768,60.21488688\\r\\nAndorra,1.56054378,42.54229102\\r\\nUnited Arab Emirates,54.3001671,23.90528188\\r\\nArgentina,-65.17980692,-35.3813488\\r\\nArmenia,44.92993276,40.28952569\\r\\nAmerican Samoa,-170.7180258,-14.30445997\\r\\nAntarctica,19.92108951,-80.50857913\\r\\nAshmore and Cartier Is.,123.5838379,-12.42993164\\r\\nFr. S. Antarctic Lands,69.22666758,-49.24895485\\r\\nAntigua and Barb.,-61.79469343,17.2774996\\r\\nAustralia,134.4910001,-25.73288704\\r\\nAustria,14.1264761,47.58549439\\r\\nAzerbaijan,47.54599879,40.28827235\\r\\nBurundi,29.87512156,-3.35939666\\r\\nBelgium,4.64065114,50.63981576\\r\\nBenin,2.32785254,9.6417597\\r\\nBurkina Faso,-1.75456601,12.26953846\\r\\nBangladesh,90.23812743,23.86731158\\r\\nBulgaria,25.21552909,42.76890318\\r\\nBahrain,50.54196932,26.04205135\\r\\nCanada,-98.30777028,61.36206324\\r\\nBahamas,-76.62843038,24.29036702\\r\\nBosnia and Herz.,17.76876733,44.17450125\\r\\nSt-Barth\\xc3\\x83\\xc2\\xa9lemy,-62.84067779,17.89880451\\r\\nBelarus,28.03209307,53.53131377\\r\\nBelize,-88.71010486,17.20027509\\r\\nBermuda,-64.7545589,32.31367802\\r\\nBolivia,-64.68538645,-16.70814787\\r\\nBrazil,-53.09783113,-10.78777702\\r\\nBarbados,-59.559797,13.18145428\\r\\nBrunei,114.7220304,4.51968958\\r\\nBhutan,90.40188155,27.41106589\\r\\nBotswana,23.79853368,-22.18403213\\r\\nCentral African Rep.,20.46826831,6.56823297\\r\\nSwitzerland,8.20867471,46.79785878\\r\\nChile,-71.38256213,-37.73070989\\r\\nChina,103.8190735,36.56176546\\r\\nC\\xc3\\x83\\xc2\\xb4te d'Ivoire,-5.5692157,7.6284262\\r\\nCameroon,12.73964156,5.69109849\\r\\nDem. Rep. Congo,23.64396107,-2.87746289\\r\\nCongo,15.21965762,-0.83787463\\r\\nCook Is.,-159.7872422,-21.21927288\\r\\nColombia,-73.08114582,3.91383431\\r\\nComoros,43.68253968,-11.87783444\\r\\nCape Verde,-23.9598882,15.95523324\\r\\nCosta Rica,-84.19208768,9.97634464\\r\\nCuba,-79.01605384,21.62289528\\r\\nCura\\xc3\\x83\\xc2\\xa7ao,-68.97119369,12.19551675\\r\\nCayman Is.,-80.91213321,19.42896497\\r\\nN. Cyprus,33.5684813,35.26277486\\r\\nCyprus,33.0060022,34.91667211\\r\\nCzech Rep.,15.31240163,49.73341233\\r\\nGermany,10.38578051,51.10698181\\r\\nDjibouti,42.5606754,11.74871806\\r\\nDominica,-61.357726,15.4394702\\r\\nDenmark,10.02800992,55.98125296\\r\\nDominican Rep.,-70.50568896,18.89433082\\r\\nAlgeria,2.61732301,28.15893849\\r\\nEcuador,-78.75201922,-1.42381612\\r\\nEgypt,29.86190099,26.49593311\\r\\nEritrea,38.84617011,15.36186618\\r\\nSpain,-3.64755047,40.24448698\\r\\nEstonia,25.54248537,58.67192972\\r\\nEthiopia,39.60080098,8.62278679\\r\\nFinland,26.2746656,64.49884603\\r\\nFiji,165.4519543,-17.42858032\\r\\nFalkland Is.,-59.35238956,-51.74483954\\r\\nFrance,-2.76172945,42.17344011\\r\\nFaeroe Is.,-6.88095423,62.05385403\\r\\nMicronesia,153.2394379,7.45246814\\r\\nGabon,11.7886287,-0.58660025\\r\\nUnited Kingdom,-2.86563164,54.12387156\\r\\nGeorgia,43.50780252,42.16855755\\r\\nGuernsey,-2.57239064,49.46809761\\r\\nGhana,-1.21676566,7.95345644\\r\\nGuinea,-10.94066612,10.43621593\\r\\nGambia,-15.39601295,13.44965244\\r\\nGuinea-Bissau,-14.94972445,12.04744948\\r\\nEq. Guinea,10.34137924,1.70555135\\r\\nGreece,22.95555794,39.07469623\\r\\nGrenada,-61.68220189,12.11725044\\r\\nGreenland,-41.34191127,74.71051289\\r\\nGuatemala,-90.36482009,15.69403664\\r\\nGuam,144.7679102,13.44165626\\r\\nGuyana,-58.98202459,4.79378034\\r\\nHong Kong,114.1138045,22.39827737\\r\\nHeard I. and McDonald Is.,73.5205171,-53.08724656\\r\\nHonduras,-86.6151661,14.82688165\\r\\nCroatia,16.40412899,45.08047631\\r\\nHaiti,-72.68527509,18.93502563\\r\\nHungary,19.39559116,47.16277506\\r\\nIndonesia,117.2401137,-2.21505456\\r\\nIsle of Man,-4.53873952,54.22418911\\r\\nIndia,79.6119761,22.88578212\\r\\nIndian Ocean Ter.,104.851898,-10.6478515\\r\\nBr. Indian Ocean Ter.,72.44541229,-7.33059751\\r\\nIreland,-8.13793569,53.1754487\\r\\nIran,54.27407004,32.57503292\\r\\nIraq,43.74353149,33.03970582\\r\\nIceland,-18.57396167,64.99575386\\r\\nIsrael,35.00444693,31.46110101\\r\\nItaly,12.07001339,42.79662641\\r\\nJamaica,-77.31482593,18.15694878\\r\\nJersey,-2.12689938,49.21837377\\r\\nJordan,36.77136104,31.24579091\\r\\nJapan,138.0308956,37.59230135\\r\\nSiachen Glacier,77.18011865,35.39236325\\r\\nKazakhstan,67.29149357,48.15688067\\r\\nKenya,37.79593973,0.59988022\\r\\nKyrgyzstan,74.54165513,41.46221943\\r\\nCambodia,104.9069433,12.72004786\\r\\nKiribati,-45.61110513,0.86001503\\r\\nSt. Kitts and Nevis,-62.68755265,17.2645995\\r\\nKorea,127.8391609,36.38523983\\r\\nKosovo,20.87249811,42.57078707\\r\\nKuwait,47.58700459,29.33431262\\r\\nLao PDR,103.7377241,18.50217433\\r\\nLebanon,35.88016072,33.92306631\\r\\nLiberia,-9.32207573,6.45278492\\r\\nLibya,18.00866169,27.03094495\\r\\nSaint Lucia,-60.96969923,13.89479481\\r\\nLiechtenstein,9.53574312,47.13665835\\r\\nSri Lanka,80.70108238,7.61266509\\r\\nLesotho,28.22723131,-29.58003188\\r\\nLithuania,23.88719355,55.32610984\\r\\nLuxembourg,6.07182201,49.76725361\\r\\nLatvia,24.91235983,56.85085163\\r\\nMacao,113.5093212,22.22311688\\r\\nSt-Martin,-63.05972851,18.08888611\\r\\nMorocco,-8.45615795,29.83762955\\r\\nMonaco,7.40627677,43.75274627\\r\\nMoldova,28.45673372,47.19498804\\r\\nMadagascar,46.70473674,-19.37189587\\r\\nMaldives,73.45713004,3.7287092\\r\\nMexico,-102.5234517,23.94753724\\r\\nMarshall Is.,170.3397612,7.00376358\\r\\nMacedonia,21.68211346,41.59530893\\r\\nMali,-3.54269065,17.34581581\\r\\nMalta,14.40523316,35.92149632\\r\\nMyanmar,96.48843321,21.18566599\\r\\nMontenegro,19.23883939,42.78890259\\r\\nMongolia,103.0529977,46.82681544\\r\\nN. Mariana Is.,145.6196965,15.82927563\\r\\nMozambique,35.53367543,-17.27381643\\r\\nMauritania,-10.34779815,20.25736706\\r\\nMontserrat,-62.18518546,16.73941406\\r\\nMauritius,57.57120551,-20.27768704\\r\\nMalawi,34.28935599,-13.21808088\\r\\nMalaysia,109.6976228,3.78986846\\r\\nNamibia,17.20963567,-22.13032568\\r\\nNew Caledonia,165.6849237,-21.29991806\\r\\nNiger,9.38545882,17.41912493\\r\\nNorfolk Island,167.9492168,-29.0514609\\r\\nNigeria,8.08943895,9.59411452\\r\\nNicaragua,-85.0305297,12.84709429\\r\\nNiue,-169.8699468,-19.04945708\\r\\nNetherlands,5.28144793,52.1007899\\r\\nNorway,15.34834656,68.75015572\\r\\nNepal,83.9158264,28.24891365\\r\\nNauru,166.9325682,-0.51912639\\r\\nNew Zealand,171.4849235,-41.81113557\\r\\nOman,56.09166155,20.60515333\\r\\nPakistan,69.33957937,29.9497515\\r\\nPanama,-80.11915156,8.51750797\\r\\nPitcairn Is.,-128.317042,-24.36500535\\r\\nPeru,-74.38242685,-9.15280381\\r\\nPhilippines,122.8839325,11.77536778\\r\\nPalau,134.4080797,7.28742784\\r\\nPapua New Guinea,145.2074475,-6.46416646\\r\\nPoland,19.39012835,52.12759564\\r\\nPuerto Rico,-66.47307604,18.22813055\\r\\nDem. Rep. Korea,127.1924797,40.15350311\\r\\nPortugal,-8.50104361,39.59550671\\r\\nParaguay,-58.40013703,-23.22823913\\r\\nPalestine,35.19628705,31.91613893\\r\\nFr. Polynesia,-144.9049439,-14.72227409\\r\\nQatar,51.18479632,25.30601188\\r\\nRomania,24.97293039,45.85243127\\r\\nRussia,96.68656112,61.98052209\\r\\nRwanda,29.91988515,-1.99033832\\r\\nW. Sahara,-12.21982755,24.22956739\\r\\nSaudi Arabia,44.53686271,24.12245841\\r\\nSudan,29.94046812,15.99035669\\r\\nS. Sudan,30.24790002,7.30877945\\r\\nSenegal,-14.4734924,14.36624173\\r\\nSingapore,103.8172559,1.35876087\\r\\nS. Geo. and S. Sandw. Is.,-36.43318388,-54.46488248\\r\\nSaint Helena,-9.54779416,-12.40355951\\r\\nSolomon Is.,159.6328767,-8.92178022\\r\\nSierra Leone,-11.79271247,8.56329593\\r\\nEl Salvador,-88.87164469,13.73943744\\r\\nSan Marino,12.45922334,43.94186747\\r\\nSomaliland,46.25198395,9.73345496\\r\\nSomalia,45.70714487,4.75062876\\r\\nSt. Pierre and Miquelon,-56.30319779,46.91918789\\r\\nSerbia,20.78958334,44.2215032\\r\\nS\\xc3\\x83\\xc2\\xa3o Tom\\xc3\\x83\\xc2\\xa9 and Principe,6.72429658,0.44391445\\r\\nSuriname,-55.9123457,4.13055413\\r\\nSlovakia,19.47905218,48.70547528\\r\\nSlovenia,14.80444238,46.11554772\\r\\nSweden,16.74558049,62.77966519\\r\\nSwaziland,31.4819369,-26.55843045\\r\\nSint Maarten,-63.05713363,18.05081728\\r\\nSeychelles,55.47603279,-4.66099094\\r\\nSyria,38.50788204,35.02547389\\r\\nTurks and Caicos Is.,-71.97387881,21.83047572\\r\\nChad,18.64492513,15.33333758\\r\\nTogo,0.96232845,8.52531356\\r\\nThailand,101.0028813,15.11815794\\r\\nTajikistan,71.01362631,38.5304539\\r\\nTurkmenistan,59.37100021,39.11554137\\r\\nTimor-Leste,125.8443898,-8.82889162\\r\\nTonga,-174.8098734,-20.42843174\\r\\nTrinidad and Tobago,-61.26567923,10.45733408\\r\\nTunisia,9.55288359,34.11956246\\r\\nTurkey,35.16895346,39.0616029\\r\\nTaiwan,120.9542728,23.7539928\\r\\nTanzania,34.81309981,-6.27565408\\r\\nUganda,32.36907971,1.27469299\\r\\nUkraine,31.38326469,48.99656673\\r\\nUruguay,-56.01807053,-32.79951534\\r\\nUnited States,-112.4616737,45.6795472\\r\\nUzbekistan,63.14001528,41.75554225\\r\\nVatican,12.43387177,41.90174985\\r\\nSt. Vin. and Gren.,-61.20129695,13.22472269\\r\\nVenezuela,-66.18184123,7.12422421\\r\\nBritish Virgin Is.,-64.47146992,18.52585755\\r\\nU.S. Virgin Is.,-64.80301538,17.95500624\\r\\nVietnam,106.299147,16.6460167\\r\\nVanuatu,167.6864464,-16.22640909\\r\\nWallis and Futuna Is.,-177.3483483,-13.88737039\\r\\nSamoa,-172.1648506,-13.75324346\\r\\nYemen,47.58676189,15.90928005\\r\\nSouth Africa,25.08390093,-29.00034095\\r\\nZambia,27.77475946,-13.45824152\\r\\nZimbabwe,29.8514412,-19.00420419\\r\\n\"}"
            ]
          },
          "metadata": {},
          "execution_count": 2
        }
      ]
    },
    {
      "cell_type": "code",
      "metadata": {
        "colab": {
          "base_uri": "https://localhost:8080/",
          "height": 423
        },
        "id": "RyXACWABi_d1",
        "outputId": "5de09d72-0ddc-4e0c-9d83-d5f72a507593"
      },
      "source": [
        "df=pd.read_csv(\"Countries_exercise.csv\")\n",
        "df"
      ],
      "execution_count": null,
      "outputs": [
        {
          "output_type": "execute_result",
          "data": {
            "text/html": [
              "<div>\n",
              "<style scoped>\n",
              "    .dataframe tbody tr th:only-of-type {\n",
              "        vertical-align: middle;\n",
              "    }\n",
              "\n",
              "    .dataframe tbody tr th {\n",
              "        vertical-align: top;\n",
              "    }\n",
              "\n",
              "    .dataframe thead th {\n",
              "        text-align: right;\n",
              "    }\n",
              "</style>\n",
              "<table border=\"1\" class=\"dataframe\">\n",
              "  <thead>\n",
              "    <tr style=\"text-align: right;\">\n",
              "      <th></th>\n",
              "      <th>name</th>\n",
              "      <th>Longitude</th>\n",
              "      <th>Latitude</th>\n",
              "    </tr>\n",
              "  </thead>\n",
              "  <tbody>\n",
              "    <tr>\n",
              "      <th>0</th>\n",
              "      <td>Aruba</td>\n",
              "      <td>-69.982677</td>\n",
              "      <td>12.520880</td>\n",
              "    </tr>\n",
              "    <tr>\n",
              "      <th>1</th>\n",
              "      <td>Afghanistan</td>\n",
              "      <td>66.004734</td>\n",
              "      <td>33.835231</td>\n",
              "    </tr>\n",
              "    <tr>\n",
              "      <th>2</th>\n",
              "      <td>Angola</td>\n",
              "      <td>17.537368</td>\n",
              "      <td>-12.293361</td>\n",
              "    </tr>\n",
              "    <tr>\n",
              "      <th>3</th>\n",
              "      <td>Anguilla</td>\n",
              "      <td>-63.064989</td>\n",
              "      <td>18.223959</td>\n",
              "    </tr>\n",
              "    <tr>\n",
              "      <th>4</th>\n",
              "      <td>Albania</td>\n",
              "      <td>20.049834</td>\n",
              "      <td>41.142450</td>\n",
              "    </tr>\n",
              "    <tr>\n",
              "      <th>...</th>\n",
              "      <td>...</td>\n",
              "      <td>...</td>\n",
              "      <td>...</td>\n",
              "    </tr>\n",
              "    <tr>\n",
              "      <th>236</th>\n",
              "      <td>Samoa</td>\n",
              "      <td>-172.164851</td>\n",
              "      <td>-13.753243</td>\n",
              "    </tr>\n",
              "    <tr>\n",
              "      <th>237</th>\n",
              "      <td>Yemen</td>\n",
              "      <td>47.586762</td>\n",
              "      <td>15.909280</td>\n",
              "    </tr>\n",
              "    <tr>\n",
              "      <th>238</th>\n",
              "      <td>South Africa</td>\n",
              "      <td>25.083901</td>\n",
              "      <td>-29.000341</td>\n",
              "    </tr>\n",
              "    <tr>\n",
              "      <th>239</th>\n",
              "      <td>Zambia</td>\n",
              "      <td>27.774759</td>\n",
              "      <td>-13.458242</td>\n",
              "    </tr>\n",
              "    <tr>\n",
              "      <th>240</th>\n",
              "      <td>Zimbabwe</td>\n",
              "      <td>29.851441</td>\n",
              "      <td>-19.004204</td>\n",
              "    </tr>\n",
              "  </tbody>\n",
              "</table>\n",
              "<p>241 rows × 3 columns</p>\n",
              "</div>"
            ],
            "text/plain": [
              "             name   Longitude   Latitude\n",
              "0           Aruba  -69.982677  12.520880\n",
              "1     Afghanistan   66.004734  33.835231\n",
              "2          Angola   17.537368 -12.293361\n",
              "3        Anguilla  -63.064989  18.223959\n",
              "4         Albania   20.049834  41.142450\n",
              "..            ...         ...        ...\n",
              "236         Samoa -172.164851 -13.753243\n",
              "237         Yemen   47.586762  15.909280\n",
              "238  South Africa   25.083901 -29.000341\n",
              "239        Zambia   27.774759 -13.458242\n",
              "240      Zimbabwe   29.851441 -19.004204\n",
              "\n",
              "[241 rows x 3 columns]"
            ]
          },
          "metadata": {},
          "execution_count": 4
        }
      ]
    },
    {
      "cell_type": "code",
      "metadata": {
        "colab": {
          "base_uri": "https://localhost:8080/",
          "height": 423
        },
        "id": "xsFbrK7djsqa",
        "outputId": "c2a482af-c13f-4622-c5d0-37e2d829723f"
      },
      "source": [
        "workdf=df.iloc[:,1:]\n",
        "workdf"
      ],
      "execution_count": null,
      "outputs": [
        {
          "output_type": "execute_result",
          "data": {
            "text/html": [
              "<div>\n",
              "<style scoped>\n",
              "    .dataframe tbody tr th:only-of-type {\n",
              "        vertical-align: middle;\n",
              "    }\n",
              "\n",
              "    .dataframe tbody tr th {\n",
              "        vertical-align: top;\n",
              "    }\n",
              "\n",
              "    .dataframe thead th {\n",
              "        text-align: right;\n",
              "    }\n",
              "</style>\n",
              "<table border=\"1\" class=\"dataframe\">\n",
              "  <thead>\n",
              "    <tr style=\"text-align: right;\">\n",
              "      <th></th>\n",
              "      <th>Longitude</th>\n",
              "      <th>Latitude</th>\n",
              "    </tr>\n",
              "  </thead>\n",
              "  <tbody>\n",
              "    <tr>\n",
              "      <th>0</th>\n",
              "      <td>-69.982677</td>\n",
              "      <td>12.520880</td>\n",
              "    </tr>\n",
              "    <tr>\n",
              "      <th>1</th>\n",
              "      <td>66.004734</td>\n",
              "      <td>33.835231</td>\n",
              "    </tr>\n",
              "    <tr>\n",
              "      <th>2</th>\n",
              "      <td>17.537368</td>\n",
              "      <td>-12.293361</td>\n",
              "    </tr>\n",
              "    <tr>\n",
              "      <th>3</th>\n",
              "      <td>-63.064989</td>\n",
              "      <td>18.223959</td>\n",
              "    </tr>\n",
              "    <tr>\n",
              "      <th>4</th>\n",
              "      <td>20.049834</td>\n",
              "      <td>41.142450</td>\n",
              "    </tr>\n",
              "    <tr>\n",
              "      <th>...</th>\n",
              "      <td>...</td>\n",
              "      <td>...</td>\n",
              "    </tr>\n",
              "    <tr>\n",
              "      <th>236</th>\n",
              "      <td>-172.164851</td>\n",
              "      <td>-13.753243</td>\n",
              "    </tr>\n",
              "    <tr>\n",
              "      <th>237</th>\n",
              "      <td>47.586762</td>\n",
              "      <td>15.909280</td>\n",
              "    </tr>\n",
              "    <tr>\n",
              "      <th>238</th>\n",
              "      <td>25.083901</td>\n",
              "      <td>-29.000341</td>\n",
              "    </tr>\n",
              "    <tr>\n",
              "      <th>239</th>\n",
              "      <td>27.774759</td>\n",
              "      <td>-13.458242</td>\n",
              "    </tr>\n",
              "    <tr>\n",
              "      <th>240</th>\n",
              "      <td>29.851441</td>\n",
              "      <td>-19.004204</td>\n",
              "    </tr>\n",
              "  </tbody>\n",
              "</table>\n",
              "<p>241 rows × 2 columns</p>\n",
              "</div>"
            ],
            "text/plain": [
              "      Longitude   Latitude\n",
              "0    -69.982677  12.520880\n",
              "1     66.004734  33.835231\n",
              "2     17.537368 -12.293361\n",
              "3    -63.064989  18.223959\n",
              "4     20.049834  41.142450\n",
              "..          ...        ...\n",
              "236 -172.164851 -13.753243\n",
              "237   47.586762  15.909280\n",
              "238   25.083901 -29.000341\n",
              "239   27.774759 -13.458242\n",
              "240   29.851441 -19.004204\n",
              "\n",
              "[241 rows x 2 columns]"
            ]
          },
          "metadata": {},
          "execution_count": 12
        }
      ]
    },
    {
      "cell_type": "code",
      "metadata": {
        "colab": {
          "base_uri": "https://localhost:8080/"
        },
        "id": "xtoa5t-qkjp1",
        "outputId": "add63856-266a-4281-f14a-58913b3ec38d"
      },
      "source": [
        "kmeans_result=KMeans(25)\n",
        "kmeans_result.fit(workdf)\n",
        "kmeans_result"
      ],
      "execution_count": null,
      "outputs": [
        {
          "output_type": "execute_result",
          "data": {
            "text/plain": [
              "KMeans(algorithm='auto', copy_x=True, init='k-means++', max_iter=300,\n",
              "       n_clusters=25, n_init=10, n_jobs=None, precompute_distances='auto',\n",
              "       random_state=None, tol=0.0001, verbose=0)"
            ]
          },
          "metadata": {},
          "execution_count": 13
        }
      ]
    },
    {
      "cell_type": "code",
      "metadata": {
        "colab": {
          "base_uri": "https://localhost:8080/"
        },
        "id": "rmy24Pmvkuqh",
        "outputId": "3a8ffa75-57d0-4ecc-f966-2cf79e5debb7"
      },
      "source": [
        "identified_clusters=kmeans_result.fit_predict(workdf)\n",
        "identified_clusters"
      ],
      "execution_count": null,
      "outputs": [
        {
          "output_type": "execute_result",
          "data": {
            "text/plain": [
              "array([10,  6,  3, 10,  0, 18, 13, 19,  7, 17,  5, 23, 16, 15, 10, 16,  0,\n",
              "       17, 12, 13, 14,  8,  2,  0, 19, 22,  1,  0, 10, 18,  1, 10,  7,  7,\n",
              "       10, 16,  2,  3, 14,  0,  7, 24,  8, 14, 12, 14,  5,  1,  9,  8,  1,\n",
              "        1, 10,  1, 17, 17,  0,  0, 12, 10, 18, 10,  0,  1, 17, 12, 13, 18,\n",
              "       12, 18,  4,  7, 13, 13, 11, 14, 13, 17, 13, 14,  8,  8,  8, 14,  0,\n",
              "       10, 21,  1, 11, 10,  2, 15,  1,  0, 10,  0, 16, 13,  2, 16,  9, 13,\n",
              "       19, 17, 13, 17,  0,  1, 13, 17, 20,  6,  6, 12,  6,  2, 10, 10, 20,\n",
              "        0, 19,  2, 17,  8,  0, 10,  0,  2,  3, 18, 13, 18,  2, 10,  8,  0,\n",
              "       18,  9,  9,  1, 11,  0,  8,  0,  2,  0, 24, 11,  3,  8, 10,  9,  3,\n",
              "       16,  3,  4, 14,  4, 14,  1,  5, 13, 18,  2,  4,  4, 19,  6,  1,  5,\n",
              "        1, 16, 11, 11, 18, 10, 20, 13,  7, 17,  5, 19, 18, 24, 12,  8, 19,\n",
              "       12, 12,  8, 16,  7, 14,  4,  8,  1,  0, 12, 12, 10,  0, 14, 10, 18,\n",
              "        0, 18,  3, 10,  9, 17, 10, 14, 14,  2,  6,  6, 16,  5, 10,  0, 17,\n",
              "       20, 12, 12, 18,  7, 22,  6,  0, 10, 10, 10, 10,  2,  4,  5,  5, 19,\n",
              "        3,  3,  3], dtype=int32)"
            ]
          },
          "metadata": {},
          "execution_count": 14
        }
      ]
    },
    {
      "cell_type": "code",
      "metadata": {
        "colab": {
          "base_uri": "https://localhost:8080/",
          "height": 423
        },
        "id": "10sdeyC_oAOr",
        "outputId": "2aa2f6f7-35ed-4fe1-e3be-1f3c8f5898ec"
      },
      "source": [
        "data_with_clusters=df.copy()\n",
        "data_with_clusters[\"Clusters\"]=identified_clusters\n",
        "data_with_clusters"
      ],
      "execution_count": null,
      "outputs": [
        {
          "output_type": "execute_result",
          "data": {
            "text/html": [
              "<div>\n",
              "<style scoped>\n",
              "    .dataframe tbody tr th:only-of-type {\n",
              "        vertical-align: middle;\n",
              "    }\n",
              "\n",
              "    .dataframe tbody tr th {\n",
              "        vertical-align: top;\n",
              "    }\n",
              "\n",
              "    .dataframe thead th {\n",
              "        text-align: right;\n",
              "    }\n",
              "</style>\n",
              "<table border=\"1\" class=\"dataframe\">\n",
              "  <thead>\n",
              "    <tr style=\"text-align: right;\">\n",
              "      <th></th>\n",
              "      <th>name</th>\n",
              "      <th>Longitude</th>\n",
              "      <th>Latitude</th>\n",
              "      <th>Clusters</th>\n",
              "    </tr>\n",
              "  </thead>\n",
              "  <tbody>\n",
              "    <tr>\n",
              "      <th>0</th>\n",
              "      <td>Aruba</td>\n",
              "      <td>-69.982677</td>\n",
              "      <td>12.520880</td>\n",
              "      <td>10</td>\n",
              "    </tr>\n",
              "    <tr>\n",
              "      <th>1</th>\n",
              "      <td>Afghanistan</td>\n",
              "      <td>66.004734</td>\n",
              "      <td>33.835231</td>\n",
              "      <td>6</td>\n",
              "    </tr>\n",
              "    <tr>\n",
              "      <th>2</th>\n",
              "      <td>Angola</td>\n",
              "      <td>17.537368</td>\n",
              "      <td>-12.293361</td>\n",
              "      <td>3</td>\n",
              "    </tr>\n",
              "    <tr>\n",
              "      <th>3</th>\n",
              "      <td>Anguilla</td>\n",
              "      <td>-63.064989</td>\n",
              "      <td>18.223959</td>\n",
              "      <td>10</td>\n",
              "    </tr>\n",
              "    <tr>\n",
              "      <th>4</th>\n",
              "      <td>Albania</td>\n",
              "      <td>20.049834</td>\n",
              "      <td>41.142450</td>\n",
              "      <td>0</td>\n",
              "    </tr>\n",
              "    <tr>\n",
              "      <th>...</th>\n",
              "      <td>...</td>\n",
              "      <td>...</td>\n",
              "      <td>...</td>\n",
              "      <td>...</td>\n",
              "    </tr>\n",
              "    <tr>\n",
              "      <th>236</th>\n",
              "      <td>Samoa</td>\n",
              "      <td>-172.164851</td>\n",
              "      <td>-13.753243</td>\n",
              "      <td>5</td>\n",
              "    </tr>\n",
              "    <tr>\n",
              "      <th>237</th>\n",
              "      <td>Yemen</td>\n",
              "      <td>47.586762</td>\n",
              "      <td>15.909280</td>\n",
              "      <td>19</td>\n",
              "    </tr>\n",
              "    <tr>\n",
              "      <th>238</th>\n",
              "      <td>South Africa</td>\n",
              "      <td>25.083901</td>\n",
              "      <td>-29.000341</td>\n",
              "      <td>3</td>\n",
              "    </tr>\n",
              "    <tr>\n",
              "      <th>239</th>\n",
              "      <td>Zambia</td>\n",
              "      <td>27.774759</td>\n",
              "      <td>-13.458242</td>\n",
              "      <td>3</td>\n",
              "    </tr>\n",
              "    <tr>\n",
              "      <th>240</th>\n",
              "      <td>Zimbabwe</td>\n",
              "      <td>29.851441</td>\n",
              "      <td>-19.004204</td>\n",
              "      <td>3</td>\n",
              "    </tr>\n",
              "  </tbody>\n",
              "</table>\n",
              "<p>241 rows × 4 columns</p>\n",
              "</div>"
            ],
            "text/plain": [
              "             name   Longitude   Latitude  Clusters\n",
              "0           Aruba  -69.982677  12.520880        10\n",
              "1     Afghanistan   66.004734  33.835231         6\n",
              "2          Angola   17.537368 -12.293361         3\n",
              "3        Anguilla  -63.064989  18.223959        10\n",
              "4         Albania   20.049834  41.142450         0\n",
              "..            ...         ...        ...       ...\n",
              "236         Samoa -172.164851 -13.753243         5\n",
              "237         Yemen   47.586762  15.909280        19\n",
              "238  South Africa   25.083901 -29.000341         3\n",
              "239        Zambia   27.774759 -13.458242         3\n",
              "240      Zimbabwe   29.851441 -19.004204         3\n",
              "\n",
              "[241 rows x 4 columns]"
            ]
          },
          "metadata": {},
          "execution_count": 16
        }
      ]
    },
    {
      "cell_type": "code",
      "metadata": {
        "colab": {
          "base_uri": "https://localhost:8080/",
          "height": 268
        },
        "id": "z9Uw1wJaoCIw",
        "outputId": "ad1a2bc5-091f-48c7-9ed2-85085f8b64d6"
      },
      "source": [
        "plt.scatter(data_with_clusters[\"Longitude\"],data_with_clusters[\"Latitude\"],c=data_with_clusters[\"Clusters\"],cmap=\"rainbow\")\n",
        "plt.xlim(-180,180)\n",
        "plt.ylim(-90,90)\n",
        "plt.show()"
      ],
      "execution_count": null,
      "outputs": [
        {
          "output_type": "display_data",
          "data": {
            "image/png": "[encoded data removed]",
            "text/plain": [
              "<Figure size 432x288 with 1 Axes>"
            ]
          },
          "metadata": {
            "needs_background": "light"
          }
        }
      ]
    },
    {
      "cell_type": "code",
      "metadata": {
        "colab": {
          "base_uri": "https://localhost:8080/"
        },
        "id": "OgfU-a89oFDw",
        "outputId": "16224f66-a1ed-4b3b-99f0-c5cf5da35fc7"
      },
      "source": [
        "#Prints WCSS Value\n",
        "kmeans_result.inertia_"
      ],
      "execution_count": null,
      "outputs": [
        {
          "output_type": "execute_result",
          "data": {
            "text/plain": [
              "27321.5844353243"
            ]
          },
          "metadata": {},
          "execution_count": 18
        }
      ]
    },
    {
      "cell_type": "code",
      "metadata": {
        "colab": {
          "base_uri": "https://localhost:8080/"
        },
        "id": "Ht9DZoj0oG4Y",
        "outputId": "742d1c63-8787-4d6e-9c45-79661246f710"
      },
      "source": [
        "#Calculating wcss for different no of clusters\n",
        "wcss=[]\n",
        "for i in range(1,42):\n",
        "  kmeans_result=KMeans(i)\n",
        "  kmeans_result.fit(workdf)\n",
        "  wcss_iter=kmeans_result.inertia_\n",
        "  wcss.append(wcss_iter)\n",
        "wcss"
      ],
      "execution_count": null,
      "outputs": [
        {
          "output_type": "execute_result",
          "data": {
            "text/plain": [
              "[1413859.6798344273,\n",
              " 657012.0797586325,\n",
              " 325235.52237055893,\n",
              " 256573.08675934302,\n",
              " 192194.9829002524,\n",
              " 152695.8713797433,\n",
              " 127997.90597439627,\n",
              " 102932.14383201557,\n",
              " 84967.41720068289,\n",
              " 76736.31421674255,\n",
              " 70140.18193625912,\n",
              " 63586.710557950006,\n",
              " 59538.904794069655,\n",
              " 54380.20240482285,\n",
              " 50350.60776870674,\n",
              " 48402.59818546462,\n",
              " 45839.50540446297,\n",
              " 42160.15646123506,\n",
              " 39101.784558747764,\n",
              " 37186.5987285459,\n",
              " 35023.45453042444,\n",
              " 32310.778504592505,\n",
              " 30695.037065782883,\n",
              " 28262.085204937197,\n",
              " 27635.516764432185,\n",
              " 25537.06307635918,\n",
              " 23608.897443348545,\n",
              " 22576.657441242925,\n",
              " 22631.37629059043,\n",
              " 20932.643436583,\n",
              " 19537.628136577496,\n",
              " 18754.644084109466,\n",
              " 17981.964885838483,\n",
              " 16680.07644254369,\n",
              " 15681.681322231507,\n",
              " 15498.288117364611,\n",
              " 15311.284769589198,\n",
              " 14424.297089548196,\n",
              " 13461.694366190917,\n",
              " 13098.685552973035,\n",
              " 12679.036342692852]"
            ]
          },
          "metadata": {},
          "execution_count": 20
        }
      ]
    },
    {
      "cell_type": "code",
      "metadata": {
        "id": "KwONsQgloITR"
      },
      "source": [
        "number_of_cluster=range(1,42)"
      ],
      "execution_count": null,
      "outputs": []
    },
    {
      "cell_type": "code",
      "metadata": {
        "colab": {
          "base_uri": "https://localhost:8080/",
          "height": 318
        },
        "id": "NdX0e-i8oJ6o",
        "outputId": "c9ca3882-4326-4b8b-a398-8cc471d8df48"
      },
      "source": [
        "plt.plot(number_of_cluster,wcss)\n",
        "plt.xlabel(\"Number of CLusters\")\n",
        "plt.ylabel(\"WCSS Value\")\n",
        "plt.title(\"Elbow Method\")"
      ],
      "execution_count": null,
      "outputs": [
        {
          "output_type": "execute_result",
          "data": {
            "text/plain": [
              "Text(0.5, 1.0, 'Elbow Method')"
            ]
          },
          "metadata": {},
          "execution_count": 23
        },
        {
          "output_type": "display_data",
          "data": {
            "image/png": "[encoded data removed]",
            "text/plain": [
              "<Figure size 432x288 with 1 Axes>"
            ]
          },
          "metadata": {
            "needs_background": "light"
          }
        }
      ]
    }
  ]
}